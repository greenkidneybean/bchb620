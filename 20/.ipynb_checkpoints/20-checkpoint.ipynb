{
 "cells": [
  {
   "cell_type": "code",
   "execution_count": 24,
   "metadata": {},
   "outputs": [
    {
     "name": "stdout",
     "output_type": "stream",
     "text": [
      "821.3919199999999\n"
     ]
    }
   ],
   "source": [
    "import sys\n",
    "from Bio import SeqIO\n",
    "\n",
    "# input arguments\n",
    "inFile = 'sample.txt'\n",
    "\n",
    "mass_dict = {\"A\":71.03711,\n",
    "\"C\":103.00919,\n",
    "\"D\":115.02694,\n",
    "\"E\":129.04259,\n",
    "\"F\":147.06841,\n",
    "\"G\":57.02146,\n",
    "\"H\":137.05891,\n",
    "\"I\":113.08406,\n",
    "\"K\":128.09496,\n",
    "\"L\":113.08406,\n",
    "\"M\":131.04049,\n",
    "\"N\":114.04293,\n",
    "\"P\":97.05276,\n",
    "\"Q\":128.05858,\n",
    "\"R\":156.10111,\n",
    "\"S\":87.03203,\n",
    "\"T\":101.04768,\n",
    "\"V\":99.06841,\n",
    "\"W\":186.07931,\n",
    "\"Y\":163.06333}\n",
    "\n",
    "file = open(inFile,'r')\n",
    "for line in file:\n",
    "    print(sum(map(mass_dict.get, line)))\n"
   ]
  },
  {
   "cell_type": "code",
   "execution_count": 25,
   "metadata": {},
   "outputs": [
    {
     "data": {
      "text/plain": [
       "98383.57895000045"
      ]
     },
     "execution_count": 25,
     "metadata": {},
     "output_type": "execute_result"
    }
   ],
   "source": [
    "seq = \"GMEEAYWMVRRYSNVDLGYTQCQQRIYTRQVSYEYQFCNYNPWNMNPQPFTCPPQKTCFQKHGKRIKMKISWIENFVKVHTFDVQEEALSAGCMGSKDAMHRSCSLTQVWHPSVNVENQAGDDGRVRPHIYYLPMTYDMFYEYRRANIRKDAWCYGSVLFRHACWMTTKEIQDRAPPINARLRWIEGQQQWCKCTNENIQRQMTGMRKNYMRNHCMENYYMHFAVVRKYQWCGFEPPYAFQPFMFYQIFGPQWKTRKTHQCCHKCDWTPKTVHGRGFRVALTKERHWDSQWKVFQGDVHPACRKNTALFKIHMMVEWASLPRLPLKCQNPCVEKRHSMNTVQLYDSPLTWMNGVQEVESADEAPFFDSQMSDRERIVIMMKMPARPCHDVSKPVLCGIMIPWWQLQYWVLDIIIVENWLVCPQYFHVCIFMIGFYYDDKDRVFFSGPVQRIALEMHLYCTAYSSQISHSQMKDFRMAGNIHMVAGDCWQRALKLPAGFCFRFPNVWFSPQETNCIEWRWQFNSNDMYNSCMQLGFLGKLHPSDIDERLSICRTPQRANKSKTNGGHYLIEGDAEDKTHGGCSQDYDTRWLYLWMPPKLTQRQFVQWHCKFPCGYDDMMDRECIADCHVKHFYNPFPQQSREDKATQRVWIESTECKYGDWHNVVAVKQRPVHAMFLHHQPVAPAQRIMVCNEDVSCTDKEPYAVALGMEKPQDSQGDYDDSTGNVEVGEMWPDQKALFNIPMVSHCFDTIPTRNKSKFQTRFMTLSRTNHDRLQAYDGIQADVFPKFVLYLHICEVDLCTYNRKCPTYWGIRADFETMYKCSRCDVSQPT\"\n",
    "\n",
    "sum(map(mass_dict.get, seq))"
   ]
  },
  {
   "cell_type": "code",
   "execution_count": 7,
   "metadata": {},
   "outputs": [
    {
     "data": {
      "text/plain": [
       "839.8896999999998"
      ]
     },
     "execution_count": 7,
     "metadata": {},
     "output_type": "execute_result"
    }
   ],
   "source": [
    "from Bio.Seq import Seq\n",
    "seq = Seq(\"SKADYEK\", generic_protein)\n",
    "SeqUtils.molecular_weight(seq)"
   ]
  },
  {
   "cell_type": "code",
   "execution_count": 8,
   "metadata": {},
   "outputs": [
    {
     "data": {
      "text/plain": [
       "6"
      ]
     },
     "execution_count": 8,
     "metadata": {},
     "output_type": "execute_result"
    }
   ],
   "source": [
    "sum([1,2,3])"
   ]
  },
  {
   "cell_type": "code",
   "execution_count": 9,
   "metadata": {},
   "outputs": [],
   "source": []
  },
  {
   "cell_type": "code",
   "execution_count": 12,
   "metadata": {},
   "outputs": [
    {
     "data": {
      "text/plain": [
       "821.3919199999999"
      ]
     },
     "execution_count": 12,
     "metadata": {},
     "output_type": "execute_result"
    }
   ],
   "source": [
    "seq = \"SKADYEK\"\n",
    "sum(map(mass_dict.get, seq))"
   ]
  },
  {
   "cell_type": "code",
   "execution_count": null,
   "metadata": {},
   "outputs": [],
   "source": []
  }
 ],
 "metadata": {
  "kernelspec": {
   "display_name": "524_env",
   "language": "python",
   "name": "524_env"
  },
  "language_info": {
   "codemirror_mode": {
    "name": "ipython",
    "version": 3
   },
   "file_extension": ".py",
   "mimetype": "text/x-python",
   "name": "python",
   "nbconvert_exporter": "python",
   "pygments_lexer": "ipython3",
   "version": "3.7.3"
  }
 },
 "nbformat": 4,
 "nbformat_minor": 4
}
