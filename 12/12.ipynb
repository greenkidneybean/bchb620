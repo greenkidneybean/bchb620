{
 "cells": [
  {
   "cell_type": "markdown",
   "metadata": {},
   "source": [
    "# Overlap graph\n",
    "object is to identify strings where last three characters are contained in first three characters of another string\n",
    "- made the mistake of thinking it was kmers\n",
    "- this is a directed graph, so can repeate through the dictionary, no copy and pop necessary"
   ]
  },
  {
   "cell_type": "code",
   "execution_count": 43,
   "metadata": {},
   "outputs": [
    {
     "name": "stdout",
     "output_type": "stream",
     "text": [
      "Rosalind_0498 Rosalind_2391\n",
      "Rosalind_0498 Rosalind_0442\n",
      "Rosalind_2391 Rosalind_2323\n"
     ]
    }
   ],
   "source": [
    "import sys\n",
    "from Bio import SeqIO\n",
    "\n",
    "# input arguments\n",
    "inFile = 'sample.txt'\n",
    "k = 3\n",
    "\n",
    "seq_dict =  SeqIO.to_dict(SeqIO.parse(inFile, \"fasta\"))\n",
    "\n",
    "for key in seq_dict.keys():\n",
    "    pop_dict = seq_dict.copy()\n",
    "    val = pop_dict.pop(key)\n",
    "    suffix = val.seq[-k:]\n",
    "    for sub_key,sub_val in pop_dict.items():\n",
    "        if suffix == sub_val.seq[:k]:\n",
    "            print(key, sub_key)"
   ]
  },
  {
   "cell_type": "code",
   "execution_count": 15,
   "metadata": {},
   "outputs": [
    {
     "name": "stdout",
     "output_type": "stream",
     "text": [
      "Rosalind_0498 Rosalind_2391\n",
      "Rosalind_0498 Rosalind_0442\n",
      "Rosalind_2391 Rosalind_2323\n",
      "Rosalind_2391 Rosalind_0442\n",
      "Rosalind_2323 Rosalind_0442\n"
     ]
    }
   ],
   "source": [
    "# adjacency graph for kmers, no repeats because of the .copy() and .pop()\n",
    "def kmer(seq,k):\n",
    "    kmers = set()\n",
    "    num_kmers = len(seq) - k + 1\n",
    "    for i in range(num_kmers):\n",
    "        kmers.add(seq[i:i+k])\n",
    "    return kmers\n",
    "\n",
    "kmer_dict = {}\n",
    "for record in SeqIO.to(inFile, \"fasta\"):\n",
    "    kmer_dict[record.name] = kmer(str(record.seq), k)\n",
    "\n",
    "pop_dict = kmer_dict.copy()\n",
    "for key,val in kmer_dict.items():\n",
    "    query = pop_dict.pop(key)\n",
    "    for sub_key,sub_val in pop_dict.items():\n",
    "        if query & sub_val:\n",
    "            print(key, sub_key)"
   ]
  }
 ],
 "metadata": {
  "kernelspec": {
   "display_name": "524_env",
   "language": "python",
   "name": "524_env"
  },
  "language_info": {
   "codemirror_mode": {
    "name": "ipython",
    "version": 3
   },
   "file_extension": ".py",
   "mimetype": "text/x-python",
   "name": "python",
   "nbconvert_exporter": "python",
   "pygments_lexer": "ipython3",
   "version": "3.7.3"
  }
 },
 "nbformat": 4,
 "nbformat_minor": 4
}
