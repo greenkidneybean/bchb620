{
 "cells": [
  {
   "cell_type": "code",
   "execution_count": 12,
   "metadata": {},
   "outputs": [],
   "source": [
    "input_str = \"2 2 2\"\n",
    "\n",
    "k,m,n = [int(i) for i in input_str.split(\" \")]\n",
    "\n",
    "# total progeny\n",
    "pop = (k+m+n)\n",
    "tot_prog = (pop * (pop -1)) * 4\n",
    "\n",
    "# Aa x Aa\n",
    "Aa_Aa = ((m * (m-1)) * 4) * .25\n",
    "\n",
    "# Aa x aa\n",
    "Aa_aa = (((m * n) * 4) * 2 ) * .5\n",
    "\n",
    "aa_aa = ((n * (n-1)) * 4) * 1\n",
    "\n",
    "dom_allel = tot_prog - (Aa_Aa + Aa_aa + aa_aa)\n",
    "\n",
    "dom_prob = dom_allel/tot_prog"
   ]
  },
  {
   "cell_type": "code",
   "execution_count": 16,
   "metadata": {},
   "outputs": [],
   "source": [
    "dom = (k*2) + m\n",
    "tot = (k+m+n)*2"
   ]
  },
  {
   "cell_type": "code",
   "execution_count": 17,
   "metadata": {},
   "outputs": [],
   "source": [
    "p1 = dom/tot"
   ]
  },
  {
   "cell_type": "code",
   "execution_count": 12,
   "metadata": {},
   "outputs": [
    {
     "data": {
      "text/plain": [
       "2"
      ]
     },
     "execution_count": 12,
     "metadata": {},
     "output_type": "execute_result"
    }
   ],
   "source": [
    "n"
   ]
  },
  {
   "cell_type": "code",
   "execution_count": null,
   "metadata": {},
   "outputs": [],
   "source": []
  }
 ],
 "metadata": {
  "kernelspec": {
   "display_name": "620_env",
   "language": "python",
   "name": "620_env"
  },
  "language_info": {
   "codemirror_mode": {
    "name": "ipython",
    "version": 3
   },
   "file_extension": ".py",
   "mimetype": "text/x-python",
   "name": "python",
   "nbconvert_exporter": "python",
   "pygments_lexer": "ipython3",
   "version": "3.7.3"
  }
 },
 "nbformat": 4,
 "nbformat_minor": 2
}
