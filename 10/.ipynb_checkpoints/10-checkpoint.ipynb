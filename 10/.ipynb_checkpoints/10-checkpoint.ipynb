{
 "cells": [
  {
   "cell_type": "markdown",
   "metadata": {},
   "source": [
    "# 5 - Mortal Fibonacci Rabbits\n",
    "\n",
    "n = number of months\n",
    "m = number of months a rabbit lives\n",
    "\n",
    "input: 6 3\n",
    "output: 4"
   ]
  },
  {
   "cell_type": "code",
   "execution_count": 33,
   "metadata": {},
   "outputs": [
    {
     "name": "stdout",
     "output_type": "stream",
     "text": [
      "0: 0\n",
      "1: 1\n",
      "2: 1\n",
      "3: 2\n",
      "4: 3\n",
      "5: 5\n",
      "6: 8\n",
      "7: 13\n",
      "8: 21\n"
     ]
    }
   ],
   "source": [
    "# previous solution\n",
    "def rabbits(n,k):\n",
    "    if n <= 1:\n",
    "        return n\n",
    "    else:\n",
    "        return(rabbits(n-1,k) + (rabbits(n-2,k)*k))\n",
    "    \n",
    "for i in range(9):\n",
    "    print(f\"{i}: {rabbits(i,1)}\")\n",
    "    \n",
    "# 0,1,1,2,2,3,4,5"
   ]
  },
  {
   "cell_type": "code",
   "execution_count": 36,
   "metadata": {},
   "outputs": [
    {
     "name": "stdout",
     "output_type": "stream",
     "text": [
      "0: 0\n",
      "1: 1\n",
      "2: 1\n",
      "3: 2\n",
      "4: 3\n",
      "5: 5\n",
      "6: 8\n",
      "7: 13\n",
      "8: 21\n"
     ]
    }
   ],
   "source": [
    "# previous solution\n",
    "def rabbits(n):\n",
    "    if n <= 1:\n",
    "        return n\n",
    "    else:\n",
    "        return(rabbits(n-1) + (rabbits(n-2)))\n",
    "    \n",
    "for i in range(9):\n",
    "    print(f\"{i}: {rabbits(i)}\")\n",
    "    \n",
    "# 0,1,1,2,2,3,4,5"
   ]
  },
  {
   "cell_type": "code",
   "execution_count": 42,
   "metadata": {},
   "outputs": [
    {
     "name": "stdout",
     "output_type": "stream",
     "text": [
      "0: 0\n",
      "1: 1\n",
      "2: 1\n",
      "3: 2\n",
      "4: 2\n",
      "5: 3\n",
      "6: 4\n",
      "7: 6\n",
      "8: 9\n"
     ]
    }
   ],
   "source": [
    "#\n",
    "# this is very close - need to nest the else statement, maybe a for loop\n",
    "#\n",
    "# 0-1 - return n\n",
    "# 2-m - return n-1 + n-2 (fibinaci)\n",
    "# >m - return (n-1 + n-2) - 1\n",
    "\n",
    "def rabbits(n,m):\n",
    "    if n <= 1: # basic start\n",
    "        return n\n",
    "    elif n <= m: # fibonacci\n",
    "        return(rabbits(n-1,m) + (rabbits(n-2,m)))\n",
    "    else: # this requires a dynamic layer that adjusts to the m (generations), nested?\n",
    "        return((rabbits(n-1,m) + (rabbits(n-2,m)))-1)\n",
    "\n",
    "    \n",
    "for i in range(9):\n",
    "    print(f\"{i}: {rabbits(i,3)}\")\n",
    "# 1,1,2,2,3,4,5"
   ]
  },
  {
   "cell_type": "code",
   "execution_count": 34,
   "metadata": {},
   "outputs": [
    {
     "data": {
      "text/plain": [
       "5"
      ]
     },
     "execution_count": 34,
     "metadata": {},
     "output_type": "execute_result"
    }
   ],
   "source": [
    "21-16"
   ]
  },
  {
   "cell_type": "code",
   "execution_count": 29,
   "metadata": {},
   "outputs": [
    {
     "name": "stdout",
     "output_type": "stream",
     "text": [
      "0: 0\n",
      "1: 1\n",
      "2: 1\n",
      "3: 4\n",
      "4: 7\n",
      "5: 19\n",
      "6: 40\n"
     ]
    }
   ],
   "source": [
    "for i in range(7):\n",
    "    print(f\"{i}: {rabbits(i,3)}\")"
   ]
  },
  {
   "cell_type": "code",
   "execution_count": null,
   "metadata": {},
   "outputs": [],
   "source": [
    "7,2-1: 1,1,1,1,1,1,1\n",
    "7,3-2: 1,1,2,2,3,4,5\n",
    "7,4-3: 1,1,2,3,4,6,9\n",
    "7,5-4: 1,1,2,3,5,7,11\n",
    "7,6-5: 1,1,2,3,5,8,12\n",
    "7,7-6: 1,1,2,3,5,8,13\n",
    "    \n",
    "# The pattern is taking two back, then the previous iteration's second to last value, doesn't work for all"
   ]
  },
  {
   "cell_type": "code",
   "execution_count": 22,
   "metadata": {},
   "outputs": [
    {
     "name": "stdout",
     "output_type": "stream",
     "text": [
      "0\n",
      "1\n",
      "1\n",
      "2\n",
      "3\n",
      "5\n"
     ]
    }
   ],
   "source": [
    "def rabbits(n,m):\n",
    "    if n <= 1:\n",
    "        return n\n",
    "    else:\n",
    "        return(rabbits(n-1,k) + (rabbits(n-2,k)*2))\n",
    "    \n",
    "for i in range(6):\n",
    "    print(rabbits(i,1,3))"
   ]
  },
  {
   "cell_type": "code",
   "execution_count": 21,
   "metadata": {},
   "outputs": [
    {
     "name": "stdout",
     "output_type": "stream",
     "text": [
      "0\n",
      "1\n",
      "2\n",
      "3\n",
      "5\n",
      "8\n"
     ]
    }
   ],
   "source": [
    "def rabbits(n,k,m):\n",
    "    if n <= (m-1):\n",
    "        return(n*1)\n",
    "    else:\n",
    "        return(rabbits(n-1,k,m) + rabbits(n-(m-1),k,m))\n",
    "    \n",
    "for i in range(6):\n",
    "    print(rabbits(i,1,3))"
   ]
  },
  {
   "cell_type": "code",
   "execution_count": null,
   "metadata": {},
   "outputs": [],
   "source": [
    "rabbits(0,1,3)"
   ]
  }
 ],
 "metadata": {
  "kernelspec": {
   "display_name": "Python 3",
   "language": "python",
   "name": "python3"
  },
  "language_info": {
   "codemirror_mode": {
    "name": "ipython",
    "version": 3
   },
   "file_extension": ".py",
   "mimetype": "text/x-python",
   "name": "python",
   "nbconvert_exporter": "python",
   "pygments_lexer": "ipython3",
   "version": "3.7.1"
  }
 },
 "nbformat": 4,
 "nbformat_minor": 2
}
