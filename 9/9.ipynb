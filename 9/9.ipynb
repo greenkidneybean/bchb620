{
 "cells": [
  {
   "cell_type": "code",
   "execution_count": 25,
   "metadata": {},
   "outputs": [],
   "source": [
    "import sys\n",
    "from Bio import SeqIO\n",
    "from Bio import SeqUtils\n",
    "from Bio import AlignIO\n",
    "\n",
    "inFile = 'sample.txt'\n",
    "\n",
    "alignment = AlignIO.read(inFile, \"fasta\")\n",
    "\n",
    "from Bio.Align import AlignInfo\n",
    "summary_align = AlignInfo.SummaryInfo(alignment)\n",
    "\n",
    "\n",
    "\n",
    "file = list(SeqIO.parse(inFile, \"fasta\"))\n",
    "\n",
    "file.dumb_consensus()"
   ]
  },
  {
   "cell_type": "code",
   "execution_count": null,
   "metadata": {},
   "outputs": [],
   "source": []
  }
 ],
 "metadata": {
  "kernelspec": {
   "display_name": "620_env",
   "language": "python",
   "name": "620_env"
  },
  "language_info": {
   "codemirror_mode": {
    "name": "ipython",
    "version": 3
   },
   "file_extension": ".py",
   "mimetype": "text/x-python",
   "name": "python",
   "nbconvert_exporter": "python",
   "pygments_lexer": "ipython3",
   "version": "3.7.3"
  }
 },
 "nbformat": 4,
 "nbformat_minor": 2
}
