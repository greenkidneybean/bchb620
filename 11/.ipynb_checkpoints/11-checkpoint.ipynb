{
 "cells": [
  {
   "cell_type": "code",
   "execution_count": 33,
   "metadata": {},
   "outputs": [
    {
     "name": "stdout",
     "output_type": "stream",
     "text": [
      "ATGCAACT\n",
      "A: 5 1 0 0 5 5 0 0\n",
      "C: 0 0 1 4 2 0 6 1\n",
      "G: 1 1 6 3 0 1 0 0\n",
      "T: 1 5 0 0 0 1 1 6\n"
     ]
    }
   ],
   "source": [
    "import sys\n",
    "from Bio import SeqIO\n",
    "from Bio import SeqUtils\n",
    "from Bio import AlignIO\n",
    "from Bio.Align import AlignInfo\n",
    "\n",
    "inFile = 'sample.txt'\n",
    "\n",
    "alignment = AlignIO.read(inFile, \"fasta\")\n",
    "\n",
    "summary_align = AlignInfo.SummaryInfo(alignment)\n",
    "\n",
    "consensus = summary_align.dumb_consensus(threshold=.51)\n",
    "\n",
    "#print(consensus)\n",
    "\n",
    "my_pssm = summary_align.pos_specific_score_matrix(consensus,\n",
    "                                                  chars_to_ignore = ['N'])\n",
    "final_dict = {'A':[],'C':[],'G':[],'T':[]}\n",
    "\n",
    "consensus = []\n",
    "\n",
    "for i in my_pssm:\n",
    "    consensus.append(max(i, key=i.get))\n",
    "    for key,val in i.items():\n",
    "        final_dict[key].append(int(val))\n",
    "\n",
    "print(\"\".join(consensus))        \n",
    "for key,val in final_dict.items():\n",
    "    print(f'{key}: {\" \".join(list(map(str,val)))}')"
   ]
  },
  {
   "cell_type": "code",
   "execution_count": null,
   "metadata": {},
   "outputs": [],
   "source": [
    "from Bio.Align import AlignInfo\n",
    "summary_align = AlignInfo.SummaryInfo(alignment)\n",
    "\n",
    "\n",
    "\n",
    "file = list(SeqIO.parse(inFile, \"fasta\"))\n",
    "\n",
    "file.dumb_consensus()"
   ]
  }
 ],
 "metadata": {
  "kernelspec": {
   "display_name": "524_env",
   "language": "python",
   "name": "524_env"
  },
  "language_info": {
   "codemirror_mode": {
    "name": "ipython",
    "version": 3
   },
   "file_extension": ".py",
   "mimetype": "text/x-python",
   "name": "python",
   "nbconvert_exporter": "python",
   "pygments_lexer": "ipython3",
   "version": "3.7.3"
  }
 },
 "nbformat": 4,
 "nbformat_minor": 4
}
