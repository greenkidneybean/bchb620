{
 "cells": [
  {
   "cell_type": "code",
   "execution_count": 12,
   "metadata": {},
   "outputs": [],
   "source": [
    "import sys\n",
    "from Bio import SeqIO\n",
    "from Bio import SeqUtils\n",
    "from Bio import AlignIO\n",
    "from Bio.Align import AlignInfo\n",
    "\n",
    "inFile = 'sample.txt'\n",
    "\n",
    "alignment = AlignIO.read(inFile, \"fasta\")"
   ]
  },
  {
   "cell_type": "code",
   "execution_count": 4,
   "metadata": {},
   "outputs": [],
   "source": [
    "summary_align = AlignInfo.SummaryInfo(alignment)"
   ]
  },
  {
   "cell_type": "code",
   "execution_count": 10,
   "metadata": {},
   "outputs": [],
   "source": [
    "consensus = summary_align.dumb_consensus(threshold=.51)"
   ]
  },
  {
   "cell_type": "code",
   "execution_count": 11,
   "metadata": {},
   "outputs": [
    {
     "name": "stdout",
     "output_type": "stream",
     "text": [
      "ATGCAACT\n"
     ]
    }
   ],
   "source": [
    "print(consensus)"
   ]
  },
  {
   "cell_type": "code",
   "execution_count": 7,
   "metadata": {},
   "outputs": [],
   "source": [
    "my_pssm = summary_align.pos_specific_score_matrix(consensus,\n",
    "                                                  chars_to_ignore = ['N'])"
   ]
  },
  {
   "cell_type": "code",
   "execution_count": 9,
   "metadata": {},
   "outputs": [
    {
     "name": "stdout",
     "output_type": "stream",
     "text": [
      "    A   C   G   T\n",
      "A  5.0 0.0 1.0 1.0\n",
      "T  1.0 0.0 1.0 5.0\n",
      "G  0.0 1.0 6.0 0.0\n",
      "X  0.0 4.0 3.0 0.0\n",
      "A  5.0 2.0 0.0 0.0\n",
      "A  5.0 0.0 1.0 1.0\n",
      "C  0.0 6.0 0.0 1.0\n",
      "T  0.0 1.0 0.0 6.0\n",
      "\n"
     ]
    }
   ],
   "source": [
    "print(my_pssm)"
   ]
  },
  {
   "cell_type": "code",
   "execution_count": null,
   "metadata": {},
   "outputs": [],
   "source": [
    "from Bio.Align import AlignInfo\n",
    "summary_align = AlignInfo.SummaryInfo(alignment)\n",
    "\n",
    "\n",
    "\n",
    "file = list(SeqIO.parse(inFile, \"fasta\"))\n",
    "\n",
    "file.dumb_consensus()"
   ]
  }
 ],
 "metadata": {
  "kernelspec": {
   "display_name": "620_env",
   "language": "python",
   "name": "620_env"
  },
  "language_info": {
   "codemirror_mode": {
    "name": "ipython",
    "version": 3
   },
   "file_extension": ".py",
   "mimetype": "text/x-python",
   "name": "python",
   "nbconvert_exporter": "python",
   "pygments_lexer": "ipython3",
   "version": "3.7.3"
  }
 },
 "nbformat": 4,
 "nbformat_minor": 2
}
